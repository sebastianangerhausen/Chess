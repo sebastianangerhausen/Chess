{
 "cells": [
  {
   "cell_type": "code",
   "execution_count": 2,
   "metadata": {},
   "outputs": [
    {
     "name": "stdout",
     "output_type": "stream",
     "text": [
      "Number of positions not covered by the queens: 3\n",
      "┌───┬───┬───┬───┬───┐\n",
      "│\u001b[44m   \u001b[0m│\u001b[41m   \u001b[0m│\u001b[41m   \u001b[0m│\u001b[44m   \u001b[0m│\u001b[41m   \u001b[0m│\n",
      "├───┼───┼───┼───┼───┤\n",
      "│\u001b[44m   \u001b[0m│\u001b[41m   \u001b[0m│\u001b[41m   \u001b[0m│\u001b[41m   \u001b[0m│\u001b[41m   \u001b[0m│\n",
      "├───┼───┼───┼───┼───┤\n",
      "│\u001b[41m   \u001b[0m│\u001b[41m   \u001b[0m│\u001b[41m   \u001b[0m│\u001b[41m   \u001b[0m│\u001b[41m x \u001b[0m│\n",
      "├───┼───┼───┼───┼───┤\n",
      "│\u001b[41m   \u001b[0m│\u001b[41m x \u001b[0m│\u001b[41m   \u001b[0m│\u001b[41m   \u001b[0m│\u001b[41m x \u001b[0m│\n",
      "├───┼───┼───┼───┼───┤\n",
      "│\u001b[41m   \u001b[0m│\u001b[41m x \u001b[0m│\u001b[41m x \u001b[0m│\u001b[41m   \u001b[0m│\u001b[41m   \u001b[0m│\n",
      "└───┴───┴───┴───┴───┘\n"
     ]
    },
    {
     "data": {
      "text/plain": [
       "2-dimensional DenseAxisArray{Int64,2,...} with index sets:\n",
       "    Dimension 1, 1:5\n",
       "    Dimension 2, 1:5\n",
       "And data, a 5×5 Matrix{Int64}:\n",
       " 0  0  0  0  0\n",
       " 0  0  0  0  0\n",
       " 0  0  0  0  1\n",
       " 0  1  0  0  1\n",
       " 0  1  1  0  0"
      ]
     },
     "metadata": {},
     "output_type": "display_data"
    }
   ],
   "source": [
    "using Chess\n",
    "\n",
    "get_optimal_queen_positions(6)"
   ]
  }
 ],
 "metadata": {
  "kernelspec": {
   "display_name": "Julia 1.10.1",
   "language": "julia",
   "name": "julia-1.10"
  },
  "language_info": {
   "file_extension": ".jl",
   "mimetype": "application/julia",
   "name": "julia",
   "version": "1.10.1"
  }
 },
 "nbformat": 4,
 "nbformat_minor": 2
}
